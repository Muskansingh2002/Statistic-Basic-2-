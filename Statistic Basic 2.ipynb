{
 "cells": [
  {
   "cell_type": "markdown",
   "id": "2d9bc684-593d-499c-a7b8-0d71c30d60fc",
   "metadata": {},
   "source": [
    "Q1. What are the three measures of central tendency?"
   ]
  },
  {
   "cell_type": "markdown",
   "id": "9d90a149-a127-4fc1-b347-2a3e3173775a",
   "metadata": {},
   "source": [
    "Ans:\n",
    "    The three measures of central tendency are Mean, Median, Mode."
   ]
  },
  {
   "cell_type": "code",
   "execution_count": null,
   "id": "f9eafb73-f0b2-4b84-9569-6118f1dabfcf",
   "metadata": {},
   "outputs": [],
   "source": []
  },
  {
   "cell_type": "markdown",
   "id": "405f8bc2-e08c-458d-ac93-fcde72dfa276",
   "metadata": {},
   "source": [
    "Q2. What is the difference between the mean, median, and mode? How are they used to measure the\n",
    "central tendency of a dataset?"
   ]
  },
  {
   "cell_type": "markdown",
   "id": "413fd6a6-3642-4a74-9192-17a443bf1e0d",
   "metadata": {},
   "source": [
    "Ans: \n",
    "    \n",
    "Mean:\n",
    "    \n",
    "Definition: The mean is the arithmetic average of a set of numbers.\n",
    "\n",
    "Use: The mean is useful for datasets with values that are fairly evenly distributed and is sensitive to outliers (extremely high or low values).\n",
    "\n",
    "Median:\n",
    "\n",
    "Definition: The median is the middle value of a dataset when it is ordered from smallest to largest.\n",
    "\n",
    "Use: The median is useful for skewed distributions or datasets with outliers because it is not affected by extreme values.\n",
    "\n",
    "Mode:\n",
    "\n",
    "Definition: The mode is the value that appears most frequently in a dataset.\n",
    "\n",
    "Use: The mode is useful for categorical data or when the most common item, value, or response is of interest."
   ]
  },
  {
   "cell_type": "code",
   "execution_count": null,
   "id": "99647a39-1e15-42f3-a245-b66e8296b892",
   "metadata": {},
   "outputs": [],
   "source": []
  },
  {
   "cell_type": "markdown",
   "id": "2f4d22b4-372f-4639-954a-100c03dfb033",
   "metadata": {},
   "source": [
    "Q3. Measure the three measures of central tendency for the given height data:\n",
    "\n",
    "[178,177,176,177,178.2,178,175,179,180,175,178.9,176.2,177,172.5,178,176.5]"
   ]
  },
  {
   "cell_type": "markdown",
   "id": "b72a4961-e8db-48b1-ac47-ec468b0b8c2e",
   "metadata": {},
   "source": [
    "Ans:\n",
    "\n",
    "To find the three measures of central tendency (mean, median, and mode) for the given height data [178, 177, 176, 177, 178.2, 178, 175, 179, 180, 175, 178.9, 176.2, 177, 172.5, 178, 176.5], follow these steps:\n",
    "\n",
    "Mean\n",
    "Calculate the mean by summing all the values and dividing by the number of values:\n",
    "\n",
    "                               Mean=∑heights/𝑁\n",
    "\n",
    "\n",
    " \n",
    "Where N is the number of values.\n",
    "\n",
    "Mean=(178+177+176+177+178.2+178+175+179+180+175+178.9+176.2+177+172.5+178+176.5)/16\n",
    "\n",
    "Mean= 2816.3/16\n",
    "\n",
    "     =176.01875\n",
    " \n",
    "\n",
    "Median:\n",
    "\n",
    "To find the median, first arrange the values in ascending order and then find the middle value. If there is an even number of observations, the median is the average of the two middle values.\n",
    "\n",
    "Arranged data: [172.5, 175, 175, 176, 176.2, 176.5, 177, 177, 177, 178, 178, 178, 178.2, 178.9, 179, 180]\n",
    "\n",
    "There are 16 values, so the median is the average of the 8th and 9th values:\n",
    "\n",
    "Median=(177+177)/2\n",
    "       \n",
    "       =177\n",
    "\n",
    "Mode:\n",
    "\n",
    "The mode is the value that occurs most frequently in the dataset.\n",
    "\n",
    "From the arranged data, it is clear that 177 and 178 both appear three times.\n",
    "\n",
    "Therefore, the modes are 177 and 178.\n",
    "\n",
    "\n"
   ]
  },
  {
   "cell_type": "code",
   "execution_count": null,
   "id": "dfb0470a-cbf4-48e5-a755-d4eed77312f7",
   "metadata": {},
   "outputs": [],
   "source": []
  },
  {
   "cell_type": "markdown",
   "id": "3d68a194-4a40-4c16-9d9f-5dd1e1b8940e",
   "metadata": {},
   "source": [
    "Q4. Find the standard deviation for the given data:\n",
    "[178,177,176,177,178.2,178,175,179,180,175,178.9,176.2,177,172.5,178,176.5]"
   ]
  },
  {
   "cell_type": "markdown",
   "id": "9500beaf-587f-481f-bf4b-994f6e3be7e6",
   "metadata": {},
   "source": [
    "Ans:\n",
    "    \n",
    "    Mean=(178+177+176+177+178.2+178+175+179+180+175+178.9+176.2+177+172.5+178+176.5)/16\n",
    "\n",
    "Mean= 2816.3/16\n",
    "\n",
    " =176.01875\n",
    "    \n",
    "Variance= 67.17775/15\n",
    "        =4.478516666666667\n",
    "    \n",
    "Calculate the standard deviation:\n",
    "\n",
    "Standard Deviation=√4.478516666666667≈2.1162\n",
    "\n",
    " "
   ]
  },
  {
   "cell_type": "code",
   "execution_count": null,
   "id": "23150bda-0bd5-4d2d-bcb5-10191e11b5bc",
   "metadata": {},
   "outputs": [],
   "source": []
  },
  {
   "cell_type": "markdown",
   "id": "d94d3420-e2ee-443e-b13d-7090fc1c6083",
   "metadata": {},
   "source": [
    "Q5. How are measures of dispersion such as range, variance, and standard deviation used to describe\n",
    "the spread of a dataset? Provide an example."
   ]
  },
  {
   "cell_type": "markdown",
   "id": "abd0e627-1f7a-472f-9938-4e4bf9ceef3a",
   "metadata": {},
   "source": [
    "Ans:\n",
    "    \n",
    "Measures of dispersion, such as range, variance, and standard deviation, are used to describe the spread or variability within a dataset. They provide insights into how much the values in the dataset deviate from the central tendency (e.g., mean) and from each other. \n",
    "\n",
    "Range\n",
    "\n",
    "Definition: The range is the difference between the maximum and minimum values in a dataset\n",
    ".\n",
    "Use: It provides a simple measure of the overall spread of the data. However, it is sensitive to outliers and does not provide information about the distribution of values within the range.\n",
    "\n",
    "Calculation:\n",
    "\n",
    "Range=Maximum value−Minimum value\n",
    "\n",
    "Variance\n",
    "\n",
    "Definition: Variance measures the average squared deviation of each data point from the mean. It provides information on the degree of spread in the dataset.\n",
    "\n",
    "Use: It is useful for understanding how much the data points vary from the mean. A higher variance indicates greater dispersion.\n",
    "\n",
    "Calculation:\n",
    "\n",
    "\n",
    "Variance(σ**2)= ∑(xi−μ)**2/N-1\n",
    "\n",
    "Standard Deviation\n",
    "\n",
    "Definition: Standard deviation is the square root of the variance. It provides a measure of the average distance of each data point from the mean.\n",
    "\n",
    "Use: It is widely used because it is in the same units as the original data, making it easier to interpret. A higher standard deviation indicates greater variability.\n",
    "\n",
    "Calculation:\n",
    "\n",
    "Standard Deviation\n",
    "\n",
    "Standard Deviation(σ)= √Variance\n",
    "\n",
    "Example\n",
    "Consider the following dataset representing the heights (in cm) of a group of people:\n",
    "\n",
    "\n",
    " [178,177,176,177,178.2,178,175,179,180,175,178.9,176.2,177,172.5,178,176.5]\n",
    " \n",
    " Range\n",
    " \n",
    "Calculation:\n",
    "\n",
    "Range=180−172.5=7.5cm\n",
    "\n",
    "Variance\n",
    "First, calculate the mean:\n",
    "\n",
    "Mean=(178+177+176+177+178.2+178+175+179+180+175+178.9+176.2+177+172.5+178+176.5)/16\n",
    "     =176.01875\n",
    "\n",
    "Next, calculate each squared deviation from the mean, sum them, and divide by 𝑁−1:\n",
    "\n",
    "Variance= 67.17775/15\n",
    "        =4.478516666666667\n",
    "        \n",
    "Standard Deviation\n",
    "\n",
    "Standard Deviation=√4.478516666666667≈2.1162\n"
   ]
  },
  {
   "cell_type": "code",
   "execution_count": null,
   "id": "33c3acf9-f196-41df-95d1-e0cacdf927af",
   "metadata": {},
   "outputs": [],
   "source": []
  },
  {
   "cell_type": "code",
   "execution_count": null,
   "id": "7de3251f-95e2-4d79-baa2-381c7f5880a0",
   "metadata": {},
   "outputs": [],
   "source": []
  },
  {
   "cell_type": "markdown",
   "id": "87b9f10d-c843-48d5-8509-2b6d7ad9d8d9",
   "metadata": {},
   "source": [
    "Q6. What is a Venn diagram?"
   ]
  },
  {
   "cell_type": "markdown",
   "id": "298b500b-e0ed-4e82-8712-2891941462db",
   "metadata": {},
   "source": [
    "Ans:\n",
    "    \n",
    "A Venn diagram is a graphical representation used to show the relationships between different sets. It consists of overlapping circles, where each circle represents a set. The overlaps between the circles represent the common elements shared by the sets."
   ]
  },
  {
   "cell_type": "code",
   "execution_count": null,
   "id": "e6df876c-ada9-4625-8819-3319c21090b9",
   "metadata": {},
   "outputs": [],
   "source": []
  },
  {
   "cell_type": "markdown",
   "id": "edf4d934-536c-4ccf-af44-3edc889b77ff",
   "metadata": {},
   "source": [
    "Q7. For the two given sets A = (2,3,4,5,6,7) & B = (0,2,6,8,10). Find:\n",
    "    \n",
    "(i) A B\n",
    "\n",
    "(ii) A ⋃ B"
   ]
  },
  {
   "cell_type": "markdown",
   "id": "26b140b4-72fa-48b1-a47c-3c8df47a7db9",
   "metadata": {},
   "source": []
  },
  {
   "cell_type": "markdown",
   "id": "fe597780-c4c1-4cc1-99ed-0adcada1fd07",
   "metadata": {},
   "source": [
    "Ans:\n",
    "    \n",
    "(i) (2,6)\n",
    "\n",
    "(ii) (0,2,3,4,5,6,7,8,10)"
   ]
  },
  {
   "cell_type": "code",
   "execution_count": null,
   "id": "30047055-edf3-4067-af25-b5615588f605",
   "metadata": {},
   "outputs": [],
   "source": []
  },
  {
   "cell_type": "markdown",
   "id": "793079bc-af9a-4c95-9c0d-c949d8dcf7de",
   "metadata": {},
   "source": [
    "Q8. What do you understand about skewness in data?"
   ]
  },
  {
   "cell_type": "markdown",
   "id": "6d493e75-8f41-492f-8f93-97c6959cb650",
   "metadata": {},
   "source": [
    "Ans:\n",
    "    \n",
    "Skewness in data refers to the asymmetry or lack of symmetry in its distribution. It measures the degree and direction of this asymmetry. In a perfectly symmetrical distribution, the left and right halves mirror each other, while in skewed distributions, one tail may be longer or stretched out relative to the other."
   ]
  },
  {
   "cell_type": "code",
   "execution_count": null,
   "id": "68a5664f-5027-423e-b0f2-14c628a27a9e",
   "metadata": {},
   "outputs": [],
   "source": []
  },
  {
   "cell_type": "markdown",
   "id": "c9ba5ca4-ab0b-4de7-b725-ff4ebb0b493b",
   "metadata": {},
   "source": [
    "Q9. If a data is right skewed then what will be the position of median with respect to mean?"
   ]
  },
  {
   "cell_type": "markdown",
   "id": "47daf872-9de5-40ab-b46b-989fbd812ff3",
   "metadata": {},
   "source": [
    "Ans:\n",
    "    \n",
    " a right-skewed distribution, the tail of the distribution extends towards the right side, meaning there are more extreme values on the right side of the distribution compared to the left. In such cases:\n",
    "\n",
    "Mean:\n",
    "\n",
    "The mean is influenced by extreme values. Since there are more extreme values on the right side, the mean is typically pulled in that direction. As a result, the mean tends to be greater than the median.\n",
    "\n",
    "Median:\n",
    "\n",
    "The median represents the middle value of the dataset when it is ordered from smallest to largest. In a right-skewed distribution, the extreme values on the right side pull the mean towards them, but they do not affect the position of the median as much. Therefore, the median tends to be less affected by extreme values and is generally closer to the center of the distribution compared to the mean."
   ]
  },
  {
   "cell_type": "code",
   "execution_count": null,
   "id": "aca13661-0e2b-4b92-9b41-6c5129eda40a",
   "metadata": {},
   "outputs": [],
   "source": []
  },
  {
   "cell_type": "markdown",
   "id": "cca29b71-0942-4a1c-9bde-0a300ab3f882",
   "metadata": {},
   "source": [
    "Q10. Explain the difference between covariance and correlation. How are these measures used in\n",
    "statistical analysis?"
   ]
  },
  {
   "cell_type": "markdown",
   "id": "fe668125-157c-4f84-9d60-639742370fc1",
   "metadata": {},
   "source": [
    "Ans:\n",
    "    \n",
    "Covariance and correlation are both measures used to quantify the relationship between two variables in statistics, but they differ in terms of scale and interpretation.\n",
    "\n",
    "Differences:\n",
    "\n",
    "Scale: Covariance is not standardized and depends on the units of the variables, whereas correlation is standardized and ranges from -1 to 1.\n",
    "\n",
    "Interpretation: Correlation provides a more intuitive interpretation of the relationship between variables compared to covariance because it is independent of the scale of the variables.\n",
    "\n",
    "Direction: Correlation indicates both the strength and direction of the linear relationship, whereas covariance only indicates the direction.\n",
    "\n",
    "Use in Statistical Analysis:\n",
    "\n",
    "Covariance: Used to understand the directional relationship between two variables. However, it does not provide information about the strength of the relationship or whether it is significant.\n",
    "\n",
    "Correlation: Used to assess the strength and direction of the linear relationship between two variables. It is widely used in various fields such as finance, economics, and social sciences for analyzing relationships between variables and making predictions."
   ]
  },
  {
   "cell_type": "code",
   "execution_count": null,
   "id": "aa4d54bd-1134-44db-bbca-64bef7ac556b",
   "metadata": {},
   "outputs": [],
   "source": []
  },
  {
   "cell_type": "markdown",
   "id": "a74bce13-2f0b-4dd6-a8e7-1c1ca787e2f2",
   "metadata": {},
   "source": [
    "Q11. What is the formula for calculating the sample mean? Provide an example calculation for a\n",
    "dataset."
   ]
  },
  {
   "cell_type": "markdown",
   "id": "3f2fa1b9-692a-4083-9232-b368145e2744",
   "metadata": {},
   "source": [
    "Ans:\n",
    "    \n",
    "The formula for calculating the sample mean :\n",
    "      Mean=∑xi/n\n",
    "        \n",
    "        Example Calculation:\n",
    "Consider a dataset of test scores: [85, 90, 88, 92, 87].\n",
    "\n",
    "To find the sample mean:\n",
    "\n",
    "Add up all the individual test scores:\n",
    "\n",
    "85+90+88+92+87=442\n",
    "\n",
    "Divide the sum by the number of data points:\n",
    "    \n",
    "442/5=88.4\n",
    "\n",
    "Therefore, the sample mean of the dataset is 88.4.\n",
    "\n"
   ]
  },
  {
   "cell_type": "markdown",
   "id": "123e794d-4836-4366-b392-833e0bea1363",
   "metadata": {},
   "source": []
  },
  {
   "cell_type": "markdown",
   "id": "0db1de49-44bd-428c-9f3f-586ec2699291",
   "metadata": {},
   "source": [
    "Q12. For a normal distribution data what is the relationship between its measure of central tendency?"
   ]
  },
  {
   "cell_type": "markdown",
   "id": "93fa2735-9ecb-42ac-abf4-235491f972f9",
   "metadata": {},
   "source": [
    "Ans:\n",
    "\n",
    "for a normal distribution:\n",
    "\n",
    "Mean = Median = Mode\n",
    "\n",
    "This relationship holds true because of the symmetry of the normal distribution, where data is evenly distributed around the mean, resulting in an equal balance of values on either side of the center."
   ]
  },
  {
   "cell_type": "code",
   "execution_count": null,
   "id": "4b326715-b8c6-4a34-8c6b-51b4c7cb6f5a",
   "metadata": {},
   "outputs": [],
   "source": []
  },
  {
   "cell_type": "markdown",
   "id": "dab5d03f-0435-4280-9a28-e3c2ecda79f7",
   "metadata": {},
   "source": [
    "Q13. How is covariance different from correlation?"
   ]
  },
  {
   "cell_type": "markdown",
   "id": "022befbf-e4c9-48af-8d56-30232d3aa00d",
   "metadata": {},
   "source": [
    "Ans:\n",
    "    \n",
    "covariance and correlation are both measures of the relationship between two variables, but correlation provides a standardized measure that is easier to interpret and compare across different datasets. Covariance indicates the direction of the relationship, while correlation measures both the direction and strength of the relationship.\n",
    "\n",
    "\n",
    "\n",
    "\n",
    "\n",
    "\n",
    "\n"
   ]
  },
  {
   "cell_type": "code",
   "execution_count": null,
   "id": "fee892be-fbec-4f3d-aee5-eeac0d62b7fe",
   "metadata": {},
   "outputs": [],
   "source": []
  },
  {
   "cell_type": "markdown",
   "id": "9714f20c-ceb6-45f1-8696-bc9161903285",
   "metadata": {},
   "source": [
    "Q14. How do outliers affect measures of central tendency and dispersion? Provide an example."
   ]
  },
  {
   "cell_type": "markdown",
   "id": "2f5d5ca5-6424-4ad1-8238-7b86abbf631b",
   "metadata": {},
   "source": [
    "Ans:\n",
    "    \n",
    "Outliers can significantly affect measures of central tendency and dispersion:\n",
    "\n",
    "Measures of Central Tendency:\n",
    "\n",
    "Mean: Outliers can greatly influence the mean because it takes into account every value in the dataset. A single outlier with a very large or very small value can pull the mean in its direction, making it unrepresentative of the majority of the data.\n",
    "\n",
    "Median: The median is less affected by outliers because it is not influenced by extreme values. It represents the middle value of the dataset when it is ordered from smallest to largest. Therefore, even if there are outliers present, the median remains relatively stable.\n",
    "\n",
    "Mode: The mode, representing the most frequent value in the dataset, may be unaffected by outliers if they do not occur frequently. However, if an outlier occurs with a high frequency, it may influence the mode by shifting the peak of the distribution.\n",
    "\n",
    "Measures of Dispersion:\n",
    "\n",
    "Range: Outliers can significantly affect the range because it is the difference between the maximum and minimum values in the dataset. If there are extreme values present, the range will be larger, reflecting greater variability in the data.\n",
    "\n",
    "Variance and Standard Deviation: Outliers can inflate the variance and standard deviation because they measure the average deviation of each data point from the mean. Outliers, being far from the mean, contribute to larger squared deviations, thus increasing the overall dispersion.\n",
    "\n",
    "Example:\n",
    "\n",
    "Consider a dataset representing the salaries of employees in a company:\n",
    "\n",
    "[30,000,35,000,40,000,45,000,50,000,1,000,000]\n",
    "\n",
    "Mean: The mean salary is significantly influenced by the outlier (1,000,000), resulting in a much higher mean than what is representative of the majority of the employees.\n",
    "\n",
    "Median: The median salary, which is the middle value (45,000), is less affected by the outlier and remains a more accurate representation of the typical salary in the company.\n",
    "\n",
    "Range: The range, influenced by the outlier, becomes much larger, reflecting the presence of extreme values.\n",
    "\n",
    "Variance and Standard Deviation: The variance and standard deviation are inflated by the presence of the outlier, indicating greater variability in the salaries.\n",
    "\n",
    "\n",
    "\n",
    "\n",
    "\n"
   ]
  }
 ],
 "metadata": {
  "kernelspec": {
   "display_name": "Python 3 (ipykernel)",
   "language": "python",
   "name": "python3"
  },
  "language_info": {
   "codemirror_mode": {
    "name": "ipython",
    "version": 3
   },
   "file_extension": ".py",
   "mimetype": "text/x-python",
   "name": "python",
   "nbconvert_exporter": "python",
   "pygments_lexer": "ipython3",
   "version": "3.10.8"
  }
 },
 "nbformat": 4,
 "nbformat_minor": 5
}
